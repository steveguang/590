{
 "cells": [
  {
   "cell_type": "markdown",
   "metadata": {},
   "source": [
    "## 3.1 RNN"
   ]
  },
  {
   "cell_type": "code",
   "execution_count": 83,
   "metadata": {},
   "outputs": [],
   "source": [
    "import pandas as pd\n",
    "from sklearn.model_selection import train_test_split"
   ]
  },
  {
   "cell_type": "code",
   "execution_count": 84,
   "metadata": {},
   "outputs": [],
   "source": [
    "tweets_with_labels = pd.read_csv(\"twitter-data/tweets_with_labels.csv\",sep =\"\\t\")"
   ]
  },
  {
   "cell_type": "code",
   "execution_count": 85,
   "metadata": {},
   "outputs": [
    {
     "name": "stdout",
     "output_type": "stream",
     "text": [
      "[[0.    0.    0.    ... 0.    0.    0.   ]\n",
      " [0.    0.    0.    ... 0.    0.    0.   ]\n",
      " [0.    0.    0.    ... 0.    0.    0.   ]\n",
      " ...\n",
      " [0.    0.    0.    ... 1.    0.    0.   ]\n",
      " [0.    0.579 0.    ... 0.    0.    0.   ]\n",
      " [0.    0.338 0.    ... 0.    0.    0.   ]]\n"
     ]
    }
   ],
   "source": [
    "attr = tweets_with_labels['tweet']\n",
    "label = tweets_with_labels.drop(['tweet', 'id'],axis = 1).values\n",
    "print (y)"
   ]
  },
  {
   "cell_type": "code",
   "execution_count": 86,
   "metadata": {},
   "outputs": [
    {
     "name": "stdout",
     "output_type": "stream",
     "text": [
      "(46767,) (15590,) (46767, 15) (15590, 15)\n"
     ]
    }
   ],
   "source": [
    "# get train, validation and test set\n",
    "x_train, x_test, y_train, y_test = train_test_split(\n",
    "    attr,label, test_size=0.2, random_state=1)\n",
    "x_train, x_val, y_train, y_val = train_test_split(\n",
    "    x_train, y_train, test_size=0.25, random_state=1)\n",
    "print (x_train.shape, x_test.shape, y_train.shape, y_test.shape)"
   ]
  },
  {
   "cell_type": "code",
   "execution_count": 87,
   "metadata": {},
   "outputs": [],
   "source": [
    "from keras.preprocessing.text import Tokenizer\n",
    "tokenizer = Tokenizer(num_words=1000)\n",
    "tokenizer.fit_on_texts(x_train)"
   ]
  },
  {
   "cell_type": "code",
   "execution_count": 88,
   "metadata": {},
   "outputs": [],
   "source": [
    "train_seq = tokenizer.texts_to_sequences(x_train) \n",
    "test_seq = tokenizer.texts_to_sequences(x_test)\n",
    "val_seq = tokenizer.texts_to_sequences(x_val)"
   ]
  },
  {
   "cell_type": "code",
   "execution_count": 89,
   "metadata": {},
   "outputs": [],
   "source": [
    "from keras.preprocessing.sequence import pad_sequences\n",
    "x_train = pad_sequences(train_seq,maxlen=100)\n",
    "x_test = pad_sequences(test_seq,maxlen=100)\n",
    "x_val = pad_sequences(val_seq,maxlen=100)"
   ]
  },
  {
   "cell_type": "code",
   "execution_count": 123,
   "metadata": {},
   "outputs": [
    {
     "name": "stdout",
     "output_type": "stream",
     "text": [
      "Train on 46767 samples, validate on 15589 samples\n",
      "Epoch 1/10\n",
      "46767/46767 [==============================] - 16s 336us/step - loss: 2.1253 - acc: 0.5135 - val_loss: 1.5903 - val_acc: 0.7238\n",
      "Epoch 2/10\n",
      "46767/46767 [==============================] - 14s 294us/step - loss: 1.4517 - acc: 0.7649 - val_loss: 1.8662 - val_acc: 0.6310\n",
      "Epoch 3/10\n",
      "46767/46767 [==============================] - 14s 299us/step - loss: 1.3620 - acc: 0.7801 - val_loss: 1.2851 - val_acc: 0.8051\n",
      "Epoch 4/10\n",
      "46767/46767 [==============================] - 15s 316us/step - loss: 1.2527 - acc: 0.8054 - val_loss: 1.2550 - val_acc: 0.8096\n",
      "Epoch 5/10\n",
      "46767/46767 [==============================] - 12s 259us/step - loss: 1.2238 - acc: 0.8098 - val_loss: 1.2445 - val_acc: 0.8104\n",
      "Epoch 6/10\n",
      "46767/46767 [==============================] - 12s 259us/step - loss: 1.2053 - acc: 0.8125 - val_loss: 1.2407 - val_acc: 0.8131\n",
      "Epoch 7/10\n",
      "46767/46767 [==============================] - 11s 242us/step - loss: 1.1909 - acc: 0.8151 - val_loss: 1.2338 - val_acc: 0.8068\n",
      "Epoch 8/10\n",
      "46767/46767 [==============================] - 11s 240us/step - loss: 1.1769 - acc: 0.8166 - val_loss: 1.2171 - val_acc: 0.8175\n",
      "Epoch 9/10\n",
      "46767/46767 [==============================] - 12s 256us/step - loss: 1.1629 - acc: 0.8191 - val_loss: 1.2149 - val_acc: 0.8101\n",
      "Epoch 10/10\n",
      "46767/46767 [==============================] - 12s 248us/step - loss: 1.1513 - acc: 0.8194 - val_loss: 1.2155 - val_acc: 0.8154\n"
     ]
    }
   ],
   "source": [
    "# use the model SimpleRNN to train\n",
    "from keras.models import Sequential\n",
    "from keras.layers import Dense, Activation\n",
    "from keras.layers import Embedding\n",
    "from keras.layers import SimpleRNN\n",
    "SimpleRNN_model = Sequential()\n",
    "SimpleRNN_model.add(Embedding(1000, 64))\n",
    "SimpleRNN_model.add(SimpleRNN(64))\n",
    "SimpleRNN_model.add(Dense(15, activation ='softmax'))\n",
    "SimpleRNN_model.compile(optimizer = 'adam', loss = 'categorical_crossentropy', metrics=['accuracy'])\n",
    "#print (SimpleRNN_model.summary())\n",
    "SimpleRNN_model_info = SimpleRNN_model.fit(x_train, y_train, epochs = 10, batch_size = 200, validation_data =(x_val,y_val))"
   ]
  },
  {
   "cell_type": "code",
   "execution_count": 124,
   "metadata": {},
   "outputs": [
    {
     "name": "stdout",
     "output_type": "stream",
     "text": [
      "15590/15590 [==============================] - 3s 167us/step\n"
     ]
    }
   ],
   "source": [
    "accr = SimpleRNN_model.evaluate(x_test,y_test)"
   ]
  },
  {
   "cell_type": "code",
   "execution_count": 125,
   "metadata": {},
   "outputs": [
    {
     "name": "stdout",
     "output_type": "stream",
     "text": [
      "[1.2354030096660906, 0.8073765234124439]\n"
     ]
    }
   ],
   "source": [
    "print (accr)"
   ]
  },
  {
   "cell_type": "markdown",
   "metadata": {},
   "source": [
    "## 3.2 CNN"
   ]
  },
  {
   "cell_type": "code",
   "execution_count": 127,
   "metadata": {},
   "outputs": [
    {
     "name": "stdout",
     "output_type": "stream",
     "text": [
      "Train on 46767 samples, validate on 15589 samples\n",
      "Epoch 1/10\n",
      "46767/46767 [==============================] - 17s 353us/step - loss: 1.9318 - acc: 0.5474 - val_loss: 1.1978 - val_acc: 0.8166\n",
      "Epoch 2/10\n",
      "46767/46767 [==============================] - 15s 313us/step - loss: 1.1609 - acc: 0.8185 - val_loss: 1.1367 - val_acc: 0.8216\n",
      "Epoch 3/10\n",
      "46767/46767 [==============================] - 16s 342us/step - loss: 1.1174 - acc: 0.8245 - val_loss: 1.1221 - val_acc: 0.8242\n",
      "Epoch 4/10\n",
      "46767/46767 [==============================] - 15s 323us/step - loss: 1.0938 - acc: 0.8290 - val_loss: 1.1159 - val_acc: 0.8267\n",
      "Epoch 5/10\n",
      "46767/46767 [==============================] - 15s 328us/step - loss: 1.0763 - acc: 0.8317 - val_loss: 1.1180 - val_acc: 0.8241\n",
      "Epoch 6/10\n",
      "46767/46767 [==============================] - 14s 307us/step - loss: 1.0611 - acc: 0.8358 - val_loss: 1.1170 - val_acc: 0.8256\n",
      "Epoch 7/10\n",
      "46767/46767 [==============================] - 14s 301us/step - loss: 1.0480 - acc: 0.8388 - val_loss: 1.1182 - val_acc: 0.8298\n",
      "Epoch 8/10\n",
      "46767/46767 [==============================] - 14s 307us/step - loss: 1.0356 - acc: 0.8415 - val_loss: 1.1198 - val_acc: 0.8246\n",
      "Epoch 9/10\n",
      "46767/46767 [==============================] - 15s 310us/step - loss: 1.0234 - acc: 0.8435 - val_loss: 1.1235 - val_acc: 0.8267\n",
      "Epoch 10/10\n",
      "46767/46767 [==============================] - 14s 300us/step - loss: 1.0128 - acc: 0.8471 - val_loss: 1.1275 - val_acc: 0.8276\n"
     ]
    }
   ],
   "source": [
    "from keras.layers import Conv1D, GlobalMaxPooling1D\n",
    "\n",
    "oned_cnn_model = Sequential()\n",
    "oned_cnn_model.add(Embedding(1000,128))\n",
    "oned_cnn_model.add(Conv1D(64,3,padding='valid',activation='relu',strides=1))\n",
    "oned_cnn_model.add( GlobalMaxPooling1D() )\n",
    "oned_cnn_model.add(Dense(15,activation='sigmoid'))\n",
    "oned_cnn_model.compile(optimizer = 'adam',loss = 'categorical_crossentropy', metrics=['acc'])\n",
    "oned_cnn_model_info = oned_cnn_model.fit(x_train, y_train,epochs = 10, batch_size = 200, validation_data =(x_val,y_val),verbose=1)"
   ]
  },
  {
   "cell_type": "code",
   "execution_count": 128,
   "metadata": {},
   "outputs": [
    {
     "name": "stdout",
     "output_type": "stream",
     "text": [
      "15590/15590 [==============================] - 1s 90us/step\n",
      "[1.155099302243544, 0.8200769724105703]\n"
     ]
    }
   ],
   "source": [
    "accr = oned_cnn_model.evaluate(x_test,y_test)\n",
    "print (accr)"
   ]
  },
  {
   "cell_type": "code",
   "execution_count": 131,
   "metadata": {},
   "outputs": [
    {
     "name": "stdout",
     "output_type": "stream",
     "text": [
      "<keras.callbacks.History object at 0x15a00da90>\n"
     ]
    }
   ],
   "source": [
    "print (oned_cnn_model.history)"
   ]
  },
  {
   "cell_type": "markdown",
   "metadata": {},
   "source": [
    "#### Below is the comparison of the 2 methods"
   ]
  },
  {
   "cell_type": "code",
   "execution_count": 146,
   "metadata": {},
   "outputs": [
    {
     "data": {
      "image/png": "[encoded data removed]",
      "text/plain": [
       "<Figure size 432x288 with 1 Axes>"
      ]
     },
     "metadata": {},
     "output_type": "display_data"
    }
   ],
   "source": [
    "import sklearn.metrics as metrics\n",
    "# calculate the fpr and tpr for all thresholds of the classification\n",
    "\n",
    "import matplotlib.pyplot as plt\n",
    "plt.title('Receiver Operating Characteristic')\n",
    "plt.plot([i for i in range(10)], SimpleRNN_model_info.history['acc'])\n",
    "\n",
    "plt.show()"
   ]
  },
  {
   "cell_type": "code",
   "execution_count": 144,
   "metadata": {},
   "outputs": [
    {
     "data": {
      "image/png": "[encoded data removed]",
      "text/plain": [
       "<Figure size 432x288 with 1 Axes>"
      ]
     },
     "metadata": {},
     "output_type": "display_data"
    }
   ],
   "source": [
    "\n",
    "plt.plot([i for i in range(10)], oned_cnn_model_info.history['acc'])\n",
    "\n",
    "plt.show()"
   ]
  },
  {
   "cell_type": "code",
   "execution_count": null,
   "metadata": {},
   "outputs": [],
   "source": []
  }
 ],
 "metadata": {
  "kernelspec": {
   "display_name": "Python 3",
   "language": "python",
   "name": "python3"
  },
  "language_info": {
   "codemirror_mode": {
    "name": "ipython",
    "version": 3
   },
   "file_extension": ".py",
   "mimetype": "text/x-python",
   "name": "python",
   "nbconvert_exporter": "python",
   "pygments_lexer": "ipython3",
   "version": "3.6.4"
  }
 },
 "nbformat": 4,
 "nbformat_minor": 2
}
