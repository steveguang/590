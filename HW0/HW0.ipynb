{
 "cells": [
  {
   "cell_type": "code",
   "execution_count": 113,
   "metadata": {},
   "outputs": [],
   "source": [
    "import pandas as pd\n",
    "import numpy as np\n",
    "from sklearn import linear_model\n",
    "import matplotlib.pyplot as plt\n",
    "from sklearn.metrics import mean_squared_error, r2_score"
   ]
  },
  {
   "cell_type": "markdown",
   "metadata": {},
   "source": [
    "## 1.1 "
   ]
  },
  {
   "cell_type": "markdown",
   "metadata": {},
   "source": [
    "### LASSO regression to predict Salary "
   ]
  },
  {
   "cell_type": "code",
   "execution_count": 2,
   "metadata": {},
   "outputs": [],
   "source": [
    "# read numeric columns only\n",
    "hitters_data = pd.read_csv(\"Hitters.csv\").select_dtypes(include=np.number)"
   ]
  },
  {
   "cell_type": "code",
   "execution_count": 3,
   "metadata": {},
   "outputs": [
    {
     "name": "stdout",
     "output_type": "stream",
     "text": [
      "   AtBat  Hits  HmRun  Runs  RBI  Walks  Years  CAtBat  CHits  CHmRun  CRuns  \\\n",
      "0    293    66      1    30   29     14      1     293     66       1     30   \n",
      "1    315    81      7    24   38     39     14    3449    835      69    321   \n",
      "2    479   130     18    66   72     76      3    1624    457      63    224   \n",
      "3    496   141     20    65   78     37     11    5628   1575     225    828   \n",
      "4    321    87     10    39   42     30      2     396    101      12     48   \n",
      "\n",
      "   CRBI  CWalks  PutOuts  Assists  Errors  Salary  \n",
      "0    29      14      446       33      20     NaN  \n",
      "1   414     375      632       43      10   475.0  \n",
      "2   266     263      880       82      14   480.0  \n",
      "3   838     354      200       11       3   500.0  \n",
      "4    46      33      805       40       4    91.5  \n"
     ]
    }
   ],
   "source": [
    "# test there are only numerica columns left\n",
    "print (hitters_data.head())"
   ]
  },
  {
   "cell_type": "code",
   "execution_count": 4,
   "metadata": {},
   "outputs": [],
   "source": [
    "# drop NA\n",
    "hitters_data = hitters_data.dropna()"
   ]
  },
  {
   "cell_type": "code",
   "execution_count": 5,
   "metadata": {},
   "outputs": [
    {
     "name": "stdout",
     "output_type": "stream",
     "text": [
      "   AtBat  Hits  HmRun  Runs  RBI  Walks  Years  CAtBat  CHits  CHmRun  CRuns  \\\n",
      "1    315    81      7    24   38     39     14    3449    835      69    321   \n",
      "2    479   130     18    66   72     76      3    1624    457      63    224   \n",
      "3    496   141     20    65   78     37     11    5628   1575     225    828   \n",
      "4    321    87     10    39   42     30      2     396    101      12     48   \n",
      "5    594   169      4    74   51     35     11    4408   1133      19    501   \n",
      "\n",
      "   CRBI  CWalks  PutOuts  Assists  Errors  Salary  \n",
      "1   414     375      632       43      10   475.0  \n",
      "2   266     263      880       82      14   480.0  \n",
      "3   838     354      200       11       3   500.0  \n",
      "4    46      33      805       40       4    91.5  \n",
      "5   336     194      282      421      25   750.0  \n"
     ]
    }
   ],
   "source": [
    "# test there are no NA values left\n",
    "print (hitters_data.head())"
   ]
  },
  {
   "cell_type": "code",
   "execution_count": 6,
   "metadata": {},
   "outputs": [],
   "source": [
    "# get training data and target\n",
    "X = hitters_data.iloc[:,:-1]\n",
    "y = hitters_data.iloc[:,-1]"
   ]
  },
  {
   "cell_type": "code",
   "execution_count": 112,
   "metadata": {},
   "outputs": [
    {
     "name": "stdout",
     "output_type": "stream",
     "text": [
      "Mean squared error while 3 predictors remain: 163994.49\n",
      "Variance score while 3 predictors remain: 0.19\n",
      "alpha while 3 predictors remain: 10.520686710236228\n",
      "the final three predictors that remain in the model are AtBat Hits HmRun\n"
     ]
    }
   ],
   "source": [
    "# Here we will do 2 things. \n",
    "# First, Create a visualization of the coefficient trajectories. Comment on which are the final three predictors\n",
    "# Then we will print out the bias and variance when all predictors remain and when final three predictors remain\n",
    "alphas = np.logspace(-10, 10, 500)\n",
    "coefs = []\n",
    "found = False\n",
    "for alpha in alphas:\n",
    "    clf = linear_model.Lasso(alpha, normalize=True, max_iter = 10000)\n",
    "    clf.fit(X, y)\n",
    "    coefs.append(clf.coef_)\n",
    "    feature_index = []\n",
    "    for i in range(len(clf.coef_)):\n",
    "        if clf.coef_[i] != 0:\n",
    "            feature_index.append(i)\n",
    "    if not found and len(feature_index) == 3:\n",
    "        y_pred = clf.predict(X)\n",
    "        print(\"Mean squared error while 3 predictors remain: %.2f\"\n",
    "      % mean_squared_error(y, y_pred))\n",
    "        # variance\n",
    "        print('Variance score while 3 predictors remain: %.2f' % r2_score(y, y_pred))\n",
    "        print (\"alpha while 3 predictors remain: \"+str(alpha))\n",
    "        print (\"the final three predictors that remain in the model are \"+list(X)[0], list(X)[1], list(X)[2])\n",
    "        found = True"
   ]
  },
  {
   "cell_type": "code",
   "execution_count": 74,
   "metadata": {},
   "outputs": [
    {
     "data": {
      "text/plain": [
       "<matplotlib.legend.Legend at 0x12abaa9d0>"
      ]
     },
     "execution_count": 74,
     "metadata": {},
     "output_type": "execute_result"
    },
    {
     "data": {
      "image/png": "[encoded data removed]",
      "text/plain": [
       "<Figure size 432x288 with 1 Axes>"
      ]
     },
     "metadata": {
      "needs_background": "light"
     },
     "output_type": "display_data"
    }
   ],
   "source": [
    "# Create a visualization of the coefficient trajectories\n",
    "fig, ax = plt.subplots()\n",
    "ax.plot(alphas, coefs)\n",
    "ax.set_xscale('log')\n",
    "plt.xlabel('alpha')\n",
    "plt.ylabel('coef')\n",
    "plt.legend(list(X))"
   ]
  },
  {
   "cell_type": "markdown",
   "metadata": {},
   "source": [
    "### Cross Validation"
   ]
  },
  {
   "cell_type": "code",
   "execution_count": 79,
   "metadata": {},
   "outputs": [],
   "source": [
    "from sklearn.linear_model import LassoCV\n",
    "from sklearn.model_selection import train_test_split"
   ]
  },
  {
   "cell_type": "code",
   "execution_count": 99,
   "metadata": {},
   "outputs": [],
   "source": [
    "reg = LassoCV(cv=10, normalize=True, max_iter = 10000, random_state=0).fit(X, y)\n",
    "y_pred = reg.predict(X)"
   ]
  },
  {
   "cell_type": "code",
   "execution_count": 100,
   "metadata": {},
   "outputs": [
    {
     "name": "stdout",
     "output_type": "stream",
     "text": [
      "Mean squared error: 96243.09\n",
      "Variance score: 0.53\n"
     ]
    }
   ],
   "source": [
    "# bias\n",
    "print(\"Mean squared error: %.2f\"\n",
    "      % mean_squared_error(y, y_pred))\n",
    "# variance\n",
    "print('Variance score: %.2f' % r2_score(y, y_pred))"
   ]
  },
  {
   "cell_type": "code",
   "execution_count": 82,
   "metadata": {},
   "outputs": [
    {
     "name": "stdout",
     "output_type": "stream",
     "text": [
      "the optimal value is 0.0635481759985745\n"
     ]
    }
   ],
   "source": [
    "# find the optimal value of the regularization penality.\n",
    "opt_alpha = reg.alpha_\n",
    "print (\"the optimal value is \"+str(opt_alpha))"
   ]
  },
  {
   "cell_type": "code",
   "execution_count": 83,
   "metadata": {},
   "outputs": [
    {
     "name": "stdout",
     "output_type": "stream",
     "text": [
      "There are 14 models left for the cross validation method and they are \n",
      "['AtBat', 'Hits', 'Runs', 'RBI', 'Walks', 'Years', 'CAtBat', 'CHmRun', 'CRuns', 'CRBI', 'CWalks', 'PutOuts', 'Assists', 'Errors']\n"
     ]
    }
   ],
   "source": [
    "# Get the predictors that are left in the model\n",
    "columns_names = X.columns\n",
    "coefs = reg.coef_\n",
    "features = []\n",
    "for i in range(len(coefs)):\n",
    "    if coefs[i] != 0:\n",
    "        features.append(columns_names[i])\n",
    "print (\"There are \"+str(len(features)) +\" models left for the cross validation method and they are \")\n",
    "print (features)"
   ]
  },
  {
   "cell_type": "markdown",
   "metadata": {},
   "source": [
    "## 1.2 "
   ]
  },
  {
   "cell_type": "markdown",
   "metadata": {},
   "source": [
    "### Ridge Regression prediciton and visualization"
   ]
  },
  {
   "cell_type": "code",
   "execution_count": 84,
   "metadata": {},
   "outputs": [],
   "source": [
    "alphas = np.logspace(-10, 10, 500)\n",
    "coefs = []\n",
    "found = False\n",
    "for alpha in alphas:\n",
    "    clf = linear_model.Ridge(alpha, normalize=True, max_iter = 10000)\n",
    "    clf.fit(X, y)\n",
    "    coefs.append(clf.coef_)"
   ]
  },
  {
   "cell_type": "code",
   "execution_count": 85,
   "metadata": {},
   "outputs": [
    {
     "data": {
      "text/plain": [
       "<matplotlib.legend.Legend at 0x12d53e610>"
      ]
     },
     "execution_count": 85,
     "metadata": {},
     "output_type": "execute_result"
    },
    {
     "data": {
      "image/png": "[encoded data removed]",
      "text/plain": [
       "<Figure size 432x288 with 1 Axes>"
      ]
     },
     "metadata": {
      "needs_background": "light"
     },
     "output_type": "display_data"
    }
   ],
   "source": [
    "# Visualize coeffecient trajectories\n",
    "fig, ax = plt.subplots()\n",
    "ax.plot(alphas, coefs)\n",
    "ax.set_xscale('log')\n",
    "plt.xlabel('alpha')\n",
    "plt.ylabel('coef')\n",
    "plt.legend(list(X))"
   ]
  },
  {
   "cell_type": "markdown",
   "metadata": {},
   "source": [
    "### cross validation"
   ]
  },
  {
   "cell_type": "code",
   "execution_count": 91,
   "metadata": {},
   "outputs": [],
   "source": [
    "from sklearn.linear_model import RidgeCV"
   ]
  },
  {
   "cell_type": "code",
   "execution_count": 92,
   "metadata": {},
   "outputs": [
    {
     "name": "stderr",
     "output_type": "stream",
     "text": [
      "/Users/yl947/anaconda3/envs/my_env/lib/python3.7/site-packages/sklearn/model_selection/_search.py:814: DeprecationWarning: The default of the `iid` parameter will change from True to False in version 0.22 and will be removed in 0.24. This will change numeric results when test-set sizes are unequal.\n",
      "  DeprecationWarning)\n"
     ]
    }
   ],
   "source": [
    "reg = RidgeCV(alphas=alphas, cv=10, normalize=True).fit(X, y)\n",
    "y_pred = reg.predict(X_test)"
   ]
  },
  {
   "cell_type": "code",
   "execution_count": 93,
   "metadata": {},
   "outputs": [
    {
     "name": "stdout",
     "output_type": "stream",
     "text": [
      "the optimal value is 0.9549044557518078\n"
     ]
    }
   ],
   "source": [
    "opt_alpha = reg.alpha_\n",
    "print (\"the optimal value is \"+str(opt_alpha))"
   ]
  },
  {
   "cell_type": "markdown",
   "metadata": {},
   "source": [
    "# 2"
   ]
  },
  {
   "cell_type": "markdown",
   "metadata": {},
   "source": [
    "#### Explain in your own words the bias-variance tradeoff. "
   ]
  },
  {
   "cell_type": "markdown",
   "metadata": {},
   "source": [
    "Answer: Bias is defined as the difference between model prediction value and actual value. It is used to test if the model is generalized well or not. Variance means the variability of model prediction and tells how data is spread. Ideally we want a model that can train our data well with low variance (not underfitting) and can be generalized to other data (not overfitting). But this is usually a dilemma and what we can do is to find a balance for which we have a relatively low bias and variance"
   ]
  },
  {
   "cell_type": "markdown",
   "metadata": {},
   "source": [
    "#### What role does regularization play in this tradeoff? Make reference to your findings in number (1) to describe models of high/low bias and variance."
   ]
  },
  {
   "cell_type": "code",
   "execution_count": 126,
   "metadata": {},
   "outputs": [],
   "source": [
    "# Here we will try different alphas to test the bias variance relationship with alpha\n",
    "biases = []\n",
    "variances = []\n",
    "alphas = np.logspace(-2, 2, 10)\n",
    "biases = []\n",
    "variances = []\n",
    "for alpha in alphas:\n",
    "    clf = linear_model.Lasso(alpha, normalize=True, max_iter = 10000)\n",
    "    clf.fit(X, y)\n",
    "    y_pred = clf.predict(X)\n",
    "    biases.append(mean_squared_error(y, y_pred))\n",
    "    variances.append(r2_score(y, y_pred))"
   ]
  },
  {
   "cell_type": "code",
   "execution_count": 127,
   "metadata": {},
   "outputs": [
    {
     "data": {
      "text/plain": [
       "[<matplotlib.lines.Line2D at 0x12db7f610>]"
      ]
     },
     "execution_count": 127,
     "metadata": {},
     "output_type": "execute_result"
    },
    {
     "data": {
      "image/png": "[encoded data removed]",
      "text/plain": [
       "<Figure size 432x288 with 1 Axes>"
      ]
     },
     "metadata": {
      "needs_background": "light"
     },
     "output_type": "display_data"
    }
   ],
   "source": [
    "plt.plot(alphas, biases)"
   ]
  },
  {
   "cell_type": "code",
   "execution_count": 128,
   "metadata": {},
   "outputs": [
    {
     "data": {
      "text/plain": [
       "[<matplotlib.lines.Line2D at 0x12dd45a90>]"
      ]
     },
     "execution_count": 128,
     "metadata": {},
     "output_type": "execute_result"
    },
    {
     "data": {
      "image/png": "[encoded data removed]",
      "text/plain": [
       "<Figure size 432x288 with 1 Axes>"
      ]
     },
     "metadata": {
      "needs_background": "light"
     },
     "output_type": "display_data"
    }
   ],
   "source": [
    "plt.plot(alphas, variances)"
   ]
  },
  {
   "cell_type": "markdown",
   "metadata": {},
   "source": [
    "Answer: as we can see from above, the large alpha, the larger bias and the smaller variance. And this is the reason why we need regularization. We want an optimal alpha with which we can get both of a relatively low bias and variance. And with regularization penalty, we can make sure we wouldn't get our model to be overfitting or underfitting too much."
   ]
  },
  {
   "cell_type": "code",
   "execution_count": null,
   "metadata": {},
   "outputs": [],
   "source": []
  }
 ],
 "metadata": {
  "kernelspec": {
   "display_name": "Python 3",
   "language": "python",
   "name": "python3"
  },
  "language_info": {
   "codemirror_mode": {
    "name": "ipython",
    "version": 3
   },
   "file_extension": ".py",
   "mimetype": "text/x-python",
   "name": "python",
   "nbconvert_exporter": "python",
   "pygments_lexer": "ipython3",
   "version": "3.7.4"
  }
 },
 "nbformat": 4,
 "nbformat_minor": 2
}
